{
 "cells": [
  {
   "cell_type": "markdown",
   "id": "a461289e",
   "metadata": {},
   "source": [
    "Simple code for docstring function"
   ]
  },
  {
   "cell_type": "code",
   "execution_count": null,
   "id": "847f4eda",
   "metadata": {},
   "outputs": [],
   "source": []
  }
 ],
 "metadata": {
  "language_info": {
   "name": "python"
  }
 },
 "nbformat": 4,
 "nbformat_minor": 5
}
