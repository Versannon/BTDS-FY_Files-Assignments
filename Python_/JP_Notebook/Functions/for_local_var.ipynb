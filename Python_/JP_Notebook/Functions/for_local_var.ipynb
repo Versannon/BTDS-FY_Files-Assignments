{
 "cells": [
  {
   "cell_type": "code",
   "execution_count": null,
   "metadata": {},
   "outputs": [
    {
     "name": "stdout",
     "output_type": "stream",
     "text": [
      "Value in main_func: 100\n",
      "Value in l_func: 50\n"
     ]
    }
   ],
   "source": [
    "##Global Variable\n",
    "value = 100\n",
    "def main_func():\n",
    "    global value\n",
    "    print(f\"Value in main_func: {value}\")\n",
    "\n",
    "##Local Variable\n",
    "def l_func():\n",
    "    value = 50\n",
    "    print(f\"Value in l_func: {value}\")\n",
    "\n",
    "main_func()\n",
    "l_func()\n",
    "    "
   ]
  },
  {
   "cell_type": "markdown",
   "metadata": {},
   "source": [
    "Same but with nested function (function - in - function)"
   ]
  },
  {
   "cell_type": "code",
   "execution_count": null,
   "metadata": {},
   "outputs": [
    {
     "name": "stdout",
     "output_type": "stream",
     "text": [
      "Value in main_fn: 1000\n",
      "Value in nes_fn: 300\n"
     ]
    }
   ],
   "source": [
    "value = 200\n",
    "def main_fn():\n",
    "    global value\n",
    "    value = 1000\n",
    "    # Here, since another value is defined in this code block, it will be treated as a local variable.\n",
    "    # And the global variable will be overwritten. and local value will be used in the function.\n",
    "    print(f\"Value in main_fn: {value}\")\n",
    "    \n",
    "    def nes_fn():\n",
    "        value = 300\n",
    "        print(f\"Value in nes_fn: {value}\")\n",
    "    nes_fn()\n",
    "    return\n",
    "\n",
    "main_fn()"
   ]
  },
  {
   "cell_type": "code",
   "execution_count": null,
   "metadata": {},
   "outputs": [],
   "source": []
  }
 ],
 "metadata": {
  "kernelspec": {
   "display_name": "Python 3",
   "language": "python",
   "name": "python3"
  },
  "language_info": {
   "codemirror_mode": {
    "name": "ipython",
    "version": 3
   },
   "file_extension": ".py",
   "mimetype": "text/x-python",
   "name": "python",
   "nbconvert_exporter": "python",
   "pygments_lexer": "ipython3",
   "version": "3.13.2"
  }
 },
 "nbformat": 4,
 "nbformat_minor": 2
}
