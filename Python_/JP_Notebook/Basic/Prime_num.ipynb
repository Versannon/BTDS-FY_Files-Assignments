{
 "cells": [
  {
   "cell_type": "markdown",
   "metadata": {},
   "source": [
    "Number To check for Prime Nos."
   ]
  },
  {
   "cell_type": "code",
   "execution_count": 7,
   "metadata": {},
   "outputs": [
    {
     "name": "stdout",
     "output_type": "stream",
     "text": [
      "7 is a prime number\n"
     ]
    }
   ],
   "source": [
    "##Code to check for a number to be Prime or not\n",
    "x = int(input(\"Enter a Number: \"))\n",
    "if x > 1:\n",
    "    for i in range(2, int(x/2), 1):\n",
    "        if (x % i) == 0:\n",
    "            print(x, \"is not a prime number\")\n",
    "            break\n",
    "    else:\n",
    "        print(x, \"is a prime number\")\n",
    "else:\n",
    "    print(x, \"is not a prime number\")\n",
    "#End of code\n",
    "\n",
    "##This code checks whether a given number is a prime number or not:\n",
    "##1. The user is prompted to input a number.\n",
    "##2. If the number is greater than 1, it uses a `for` loop to check divisibility from 2 to half of the number.\n",
    "##3. If the number is divisible by any number in this range, it prints that the number is not prime and exits the loop.\n",
    "##4. If no divisors are found, it prints that the number is a prime number.\n",
    "##5. If the number is less than or equal to 1, it directly prints that the number is not a prime number.\n"
   ]
  },
  {
   "cell_type": "code",
   "execution_count": 6,
   "metadata": {},
   "outputs": [
    {
     "name": "stdout",
     "output_type": "stream",
     "text": [
      "True\n"
     ]
    }
   ],
   "source": [
    "from sympy import *\n",
    "p1 = isprime(int(input(\"Enter a Number: \")))\n",
    "print(p1)"
   ]
  },
  {
   "cell_type": "code",
   "execution_count": null,
   "metadata": {},
   "outputs": [],
   "source": []
  }
 ],
 "metadata": {
  "kernelspec": {
   "display_name": "base",
   "language": "python",
   "name": "python3"
  },
  "language_info": {
   "codemirror_mode": {
    "name": "ipython",
    "version": 3
   },
   "file_extension": ".py",
   "mimetype": "text/x-python",
   "name": "python",
   "nbconvert_exporter": "python",
   "pygments_lexer": "ipython3",
   "version": "3.12.7"
  }
 },
 "nbformat": 4,
 "nbformat_minor": 2
}
