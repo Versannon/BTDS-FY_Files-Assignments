{
 "cells": [
  {
   "cell_type": "markdown",
   "metadata": {},
   "source": [
    "Code to Print a pyramid"
   ]
  },
  {
   "cell_type": "code",
   "execution_count": 1,
   "metadata": {},
   "outputs": [
    {
     "name": "stdout",
     "output_type": "stream",
     "text": [
      "        \n",
      "*       \n",
      "***      \n",
      "*****     \n",
      "*******    \n",
      "*********   \n",
      "***********  \n",
      "************* \n",
      "***************\n"
     ]
    }
   ],
   "source": [
    "##Code to print a pyramid of asterisks based on the number of rows given by the user\n",
    "x = int(input(\"Enter Number of rows: \"))\n",
    "for i in range(x+1):\n",
    "    print(\"\" * (x-i) + \"*\" * (2*i-1) + \" \" * (x-i))"
   ]
  }
 ],
 "metadata": {
  "kernelspec": {
   "display_name": "base",
   "language": "python",
   "name": "python3"
  },
  "language_info": {
   "codemirror_mode": {
    "name": "ipython",
    "version": 3
   },
   "file_extension": ".py",
   "mimetype": "text/x-python",
   "name": "python",
   "nbconvert_exporter": "python",
   "pygments_lexer": "ipython3",
   "version": "3.12.7"
  }
 },
 "nbformat": 4,
 "nbformat_minor": 2
}
