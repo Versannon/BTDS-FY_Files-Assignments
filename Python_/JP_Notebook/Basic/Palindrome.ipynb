{
 "cells": [
  {
   "cell_type": "markdown",
   "metadata": {},
   "source": [
    "Palindrome Check"
   ]
  },
  {
   "cell_type": "code",
   "execution_count": null,
   "metadata": {},
   "outputs": [],
   "source": [
    "## Number Palindrome\n",
    "x = int(input(\"Enter a Number: \"))\n",
    "temp = x\n",
    "rev = 0\n",
    "while x > 0:\n",
    "    dig = x % 10\n",
    "    rev = rev * 10 + dig\n",
    "    x = x // 10\n",
    "if temp == rev:\n",
    "    print(\"Number is a Palindrome\")\n",
    "else:\n",
    "    print(\"Number is not a Palindrome\")"
   ]
  },
  {
   "cell_type": "code",
   "execution_count": 6,
   "metadata": {},
   "outputs": [
    {
     "name": "stdout",
     "output_type": "stream",
     "text": [
      "You entered:  yty\n",
      " And This String is a Palindrome\n"
     ]
    }
   ],
   "source": [
    "## String Palindrome Check\n",
    "str = input(\"Enter a String: \")\n",
    "if str == str[::-1]:\n",
    "    print(\"You entered: \", str)\n",
    "    print(\" And This String is a Palindrome\")\n",
    "else:\n",
    "    print(\"You entered: \", str)\n",
    "    print(\"But The String is not a Palindrome\")"
   ]
  },
  {
   "cell_type": "code",
   "execution_count": null,
   "metadata": {},
   "outputs": [],
   "source": []
  }
 ],
 "metadata": {
  "kernelspec": {
   "display_name": "base",
   "language": "python",
   "name": "python3"
  },
  "language_info": {
   "codemirror_mode": {
    "name": "ipython",
    "version": 3
   },
   "file_extension": ".py",
   "mimetype": "text/x-python",
   "name": "python",
   "nbconvert_exporter": "python",
   "pygments_lexer": "ipython3",
   "version": "3.12.7"
  }
 },
 "nbformat": 4,
 "nbformat_minor": 2
}
