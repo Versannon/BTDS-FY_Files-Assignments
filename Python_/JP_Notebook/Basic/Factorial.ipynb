{
 "cells": [
  {
   "cell_type": "markdown",
   "metadata": {},
   "source": [
    "Factorial Printing"
   ]
  },
  {
   "cell_type": "code",
   "execution_count": 1,
   "metadata": {},
   "outputs": [],
   "source": [
    "## Program to print Factorial of a number without using def function"
   ]
  },
  {
   "cell_type": "code",
   "execution_count": null,
   "metadata": {},
   "outputs": [],
   "source": [
    "# Input from the user\n",
    "num = int(input(\"Enter a number: \"))\n",
    "factorial = 1\n",
    "if num < 0:\n",
    "    print(\"Factorial does not exist for negative numbers.\")\n",
    "elif num == 0:\n",
    "    print(\"The factorial of 0 is 1.\")\n",
    "else:\n",
    "    for i in range(num, 1, -1):\n",
    "        factorial *= i\n",
    "    print(f\"The factorial of {num} is {factorial}.\")\n",
    "\n",
    "##This code calculates the factorial of a given number entered by the user:\n",
    "##1. The user is prompted to input a number.\n",
    "##2. If the number is negative, it prints that the factorial does not exist for negative numbers.\n",
    "##3. If the number is 0, it prints that the factorial of 0 is 1 (as per mathematical definition).\n",
    "##4. For positive numbers, it uses a `for` loop to calculate the factorial by multiplying all integers from 1 to the given number.\n",
    "##5. Finally, it prints the calculated factorial."
   ]
  }
 ],
 "metadata": {
  "kernelspec": {
   "display_name": "base",
   "language": "python",
   "name": "python3"
  },
  "language_info": {
   "codemirror_mode": {
    "name": "ipython",
    "version": 3
   },
   "file_extension": ".py",
   "mimetype": "text/x-python",
   "name": "python",
   "nbconvert_exporter": "python",
   "pygments_lexer": "ipython3",
   "version": "3.12.7"
  }
 },
 "nbformat": 4,
 "nbformat_minor": 2
}
