{
 "cells": [
  {
   "cell_type": "markdown",
   "metadata": {},
   "source": [
    "Printing Multiplication Table"
   ]
  },
  {
   "cell_type": "code",
   "execution_count": 1,
   "metadata": {},
   "outputs": [
    {
     "name": "stdout",
     "output_type": "stream",
     "text": [
      "78 x 1 = 78\n",
      "78 x 2 = 156\n",
      "78 x 3 = 234\n",
      "78 x 4 = 312\n",
      "78 x 5 = 390\n",
      "78 x 6 = 468\n",
      "78 x 7 = 546\n",
      "78 x 8 = 624\n",
      "78 x 9 = 702\n",
      "78 x 10 = 780\n"
     ]
    }
   ],
   "source": [
    "## Simple loop program to print the multiplication table of a number\n",
    "x = int(input(\"Enter a Number to print the multiplication table: \"))\n",
    "for i in range(1,11):\n",
    "    print(x, \"x\", i, \"=\", x*i)"
   ]
  }
 ],
 "metadata": {
  "kernelspec": {
   "display_name": "base",
   "language": "python",
   "name": "python3"
  },
  "language_info": {
   "codemirror_mode": {
    "name": "ipython",
    "version": 3
   },
   "file_extension": ".py",
   "mimetype": "text/x-python",
   "name": "python",
   "nbconvert_exporter": "python",
   "pygments_lexer": "ipython3",
   "version": "3.12.7"
  }
 },
 "nbformat": 4,
 "nbformat_minor": 2
}
