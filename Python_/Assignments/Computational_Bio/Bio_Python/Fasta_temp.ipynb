{
 "cells": [
  {
   "cell_type": "markdown",
   "id": "4274de6e",
   "metadata": {},
   "source": [
    "Creating a FASTA File"
   ]
  },
  {
   "cell_type": "code",
   "execution_count": 1,
   "id": "039e2d23",
   "metadata": {},
   "outputs": [
    {
     "name": "stdout",
     "output_type": "stream",
     "text": [
      "FASTA file has been created with the name 'example.fasta'.\n"
     ]
    }
   ],
   "source": [
    "fasta_data=\"\"\">seq1\n",
    "ATGCGTACGTTAG\n",
    ">seq2\n",
    "TTGACGTAGCTAAGC\"\"\"\n",
    "\n",
    "with open(\"example.fasta\", \"w\") as f:\n",
    "    f.write(fasta_data)\n",
    "\n",
    "print(\"FASTA file has been created with the name 'example.fasta'.\")"
   ]
  },
  {
   "cell_type": "code",
   "execution_count": 3,
   "id": "8c977d54",
   "metadata": {},
   "outputs": [
    {
     "name": "stdout",
     "output_type": "stream",
     "text": [
      "ID: seq1\n",
      "Sequence: ATGCGTACGTTAG\n",
      "ID: seq2\n",
      "Sequence: TTGACGTAGCTAAGC\n"
     ]
    }
   ],
   "source": [
    "from Bio import SeqIO\n",
    "\n",
    "#Load and parse the FASTA file\n",
    "for record in SeqIO.parse(\"example.fasta\", \"fasta\"):\n",
    "    print(f\"ID: {record.id}\")\n",
    "    print(f\"Sequence: {record.seq}\")"
   ]
  }
 ],
 "metadata": {
  "kernelspec": {
   "display_name": "Python 3",
   "language": "python",
   "name": "python3"
  },
  "language_info": {
   "codemirror_mode": {
    "name": "ipython",
    "version": 3
   },
   "file_extension": ".py",
   "mimetype": "text/x-python",
   "name": "python",
   "nbconvert_exporter": "python",
   "pygments_lexer": "ipython3",
   "version": "3.13.2"
  }
 },
 "nbformat": 4,
 "nbformat_minor": 5
}
