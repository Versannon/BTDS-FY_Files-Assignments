{
 "cells": [
  {
   "cell_type": "markdown",
   "id": "1fed4f44",
   "metadata": {},
   "source": [
    "Loading a Smaple GenBank content"
   ]
  },
  {
   "cell_type": "code",
   "execution_count": 1,
   "id": "8b562c5b",
   "metadata": {},
   "outputs": [
    {
     "name": "stdout",
     "output_type": "stream",
     "text": [
      "GenBank file 'example.gb' created.\n"
     ]
    }
   ],
   "source": [
    "# Sample GenBank content\n",
    "gb_data = \"\"\"LOCUS       SCU49845     5028 bp    DNA             PLN       21-JUN-1999\n",
    "DEFINITION  Saccharomyces cerevisiae TCP1-beta gene.\n",
    "ACCESSION   U49845\n",
    "VERSION     U49845.1\n",
    "KEYWORDS    .\n",
    "SOURCE      Saccharomyces cerevisiae (baker's yeast)\n",
    "  ORGANISM  Saccharomyces cerevisiae\n",
    "            Eukaryota; Fungi; Ascomycota; Saccharomycotina.\n",
    "FEATURES             Location/Qualifiers\n",
    "     source          1..5028\n",
    "                     /organism=\"Saccharomyces cerevisiae\"\n",
    "                     /db_xref=\"taxon:4932\"\n",
    "ORIGIN\n",
    "        1 atgaccatga ttaacgccaag aaaaagggaa ggtggctcca aagttggtta gttctttttt\n",
    "       61 tatttatatt atttataatt gttttttaat aataataata ataataataa taaaataaaa\n",
    "//\"\"\"\n",
    "\n",
    "with open(\"example.gb\", \"w\") as f:\n",
    "    f.write(gb_data)\n",
    "\n",
    "print(\"GenBank file 'example.gb' created.\")"
   ]
  },
  {
   "cell_type": "code",
   "execution_count": 2,
   "id": "4e052e68",
   "metadata": {},
   "outputs": [
    {
     "name": "stdout",
     "output_type": "stream",
     "text": [
      "ID: U49845.1\n",
      "Deacription: Saccharomyces cerevisiae TCP1-beta gene\n",
      "Sequence (first 60 bases): ATGACCATGATTAACGCCAAGAAAAAGGGAAGGTGGCTCCAAAGTTGGTTAGTTCTTTTT...\n"
     ]
    },
    {
     "name": "stderr",
     "output_type": "stream",
     "text": [
      "d:\\Python\\Lib\\site-packages\\Bio\\GenBank\\__init__.py:841: BiopythonParserWarning: Expected sequence length 5028, found 121 (U49845.1).\n",
      "  warnings.warn(\n"
     ]
    }
   ],
   "source": [
    "from Bio import SeqIO\n",
    "\n",
    "#Load and parse the GenBank file\n",
    "for record in SeqIO.parse(\"example.gb\", \"genbank\"):\n",
    "    print(f\"ID: {record.id}\")\n",
    "    print(f\"Deacription: {record.description}\")\n",
    "    print(f\"Sequence (first 60 bases): {record.seq[:60]}...\")"
   ]
  }
 ],
 "metadata": {
  "kernelspec": {
   "display_name": "Python 3",
   "language": "python",
   "name": "python3"
  },
  "language_info": {
   "codemirror_mode": {
    "name": "ipython",
    "version": 3
   },
   "file_extension": ".py",
   "mimetype": "text/x-python",
   "name": "python",
   "nbconvert_exporter": "python",
   "pygments_lexer": "ipython3",
   "version": "3.13.2"
  }
 },
 "nbformat": 4,
 "nbformat_minor": 5
}
