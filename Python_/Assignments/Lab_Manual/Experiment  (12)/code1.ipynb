{
 "cells": [
  {
   "cell_type": "markdown",
   "id": "a0949e33",
   "metadata": {},
   "source": [
    "Write a Python program to create a NumPy array and perform basic operations (addition, \n",
    "subtraction). "
   ]
  },
  {
   "cell_type": "code",
   "execution_count": 1,
   "id": "05cac705",
   "metadata": {},
   "outputs": [
    {
     "name": "stdout",
     "output_type": "stream",
     "text": [
      "Addition: [5 7 9]\n",
      "Subtraction: [-3 -3 -3]\n"
     ]
    }
   ],
   "source": [
    "import numpy as np\n",
    "\n",
    "arr1 = np.array([1, 2, 3])\n",
    "arr2 = np.array([4, 5, 6])\n",
    "\n",
    "addition = arr1 + arr2\n",
    "print(\"Addition:\", addition)\n",
    "\n",
    "subtraction = arr1 - arr2\n",
    "print(\"Subtraction:\", subtraction)"
   ]
  }
 ],
 "metadata": {
  "kernelspec": {
   "display_name": "Python 3",
   "language": "python",
   "name": "python3"
  },
  "language_info": {
   "codemirror_mode": {
    "name": "ipython",
    "version": 3
   },
   "file_extension": ".py",
   "mimetype": "text/x-python",
   "name": "python",
   "nbconvert_exporter": "python",
   "pygments_lexer": "ipython3",
   "version": "3.13.2"
  }
 },
 "nbformat": 4,
 "nbformat_minor": 5
}
