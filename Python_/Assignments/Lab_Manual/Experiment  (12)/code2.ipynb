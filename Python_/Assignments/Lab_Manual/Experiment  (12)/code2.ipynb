{
 "cells": [
  {
   "cell_type": "markdown",
   "id": "59fb6d49",
   "metadata": {},
   "source": [
    "Write a Python program to create a Pandas DataFrame and perform basic operations (selection, \n",
    "filtering). "
   ]
  },
  {
   "cell_type": "code",
   "execution_count": 1,
   "id": "b110ca1c",
   "metadata": {},
   "outputs": [
    {
     "name": "stdout",
     "output_type": "stream",
     "text": [
      "Selecting 'Name' column:\n",
      "0      Alice\n",
      "1        Bob\n",
      "2    Charlie\n",
      "Name: Name, dtype: object\n",
      "Filtering rows where Age > 30:\n",
      "      Name  Age     City\n",
      "2  Charlie   35  Chicago\n"
     ]
    }
   ],
   "source": [
    "import pandas as pd\n",
    "\n",
    "data = {\n",
    "    'Name': ['Alice', 'Bob', 'Charlie'],\n",
    "    'Age': [25, 30, 35],\n",
    "    'City': ['New York', 'Los Angeles', 'Chicago']\n",
    "}\n",
    "df = pd.DataFrame(data)\n",
    "\n",
    "print(\"Selecting 'Name' column:\")\n",
    "print(df['Name'])\n",
    "\n",
    "print(\"Filtering rows where Age > 30:\")\n",
    "print(df[df['Age'] > 30])"
   ]
  }
 ],
 "metadata": {
  "kernelspec": {
   "display_name": "Python 3",
   "language": "python",
   "name": "python3"
  },
  "language_info": {
   "codemirror_mode": {
    "name": "ipython",
    "version": 3
   },
   "file_extension": ".py",
   "mimetype": "text/x-python",
   "name": "python",
   "nbconvert_exporter": "python",
   "pygments_lexer": "ipython3",
   "version": "3.13.2"
  }
 },
 "nbformat": 4,
 "nbformat_minor": 5
}
