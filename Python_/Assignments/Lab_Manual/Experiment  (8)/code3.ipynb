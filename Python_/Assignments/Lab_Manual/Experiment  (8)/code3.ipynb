{
 "cells": [
  {
   "cell_type": "markdown",
   "id": "a3123b5a",
   "metadata": {},
   "source": [
    "Write a Python program to create a custom exception and raise it."
   ]
  },
  {
   "cell_type": "code",
   "execution_count": 2,
   "id": "b65817ba",
   "metadata": {},
   "outputs": [
    {
     "name": "stdout",
     "output_type": "stream",
     "text": [
      "Caught a custom exception: This is a custom exception.\n",
      "Execution Successful\n"
     ]
    }
   ],
   "source": [
    "class CustomError(Exception):\n",
    "    def __init__(self, message):\n",
    "        self.message = message\n",
    "        super().__init__(self.message)\n",
    "\n",
    "try:\n",
    "    raise CustomError(\"This is a custom exception.\")\n",
    "except CustomError as e:\n",
    "    print(f\"Caught a custom exception: {e}\")\n",
    "finally:\n",
    "    print('Execution Successful')"
   ]
  }
 ],
 "metadata": {
  "kernelspec": {
   "display_name": "Python 3",
   "language": "python",
   "name": "python3"
  },
  "language_info": {
   "codemirror_mode": {
    "name": "ipython",
    "version": 3
   },
   "file_extension": ".py",
   "mimetype": "text/x-python",
   "name": "python",
   "nbconvert_exporter": "python",
   "pygments_lexer": "ipython3",
   "version": "3.13.2"
  }
 },
 "nbformat": 4,
 "nbformat_minor": 5
}
