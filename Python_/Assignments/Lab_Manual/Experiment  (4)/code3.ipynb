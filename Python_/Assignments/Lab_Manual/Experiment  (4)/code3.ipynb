{
 "cells": [
  {
   "cell_type": "markdown",
   "id": "78078cf8",
   "metadata": {},
   "source": [
    "Write a Python program to reverse a string using slicing. "
   ]
  },
  {
   "cell_type": "code",
   "execution_count": 1,
   "id": "baf3607d",
   "metadata": {},
   "outputs": [
    {
     "name": "stdout",
     "output_type": "stream",
     "text": [
      "Original String: Hello, World!\n",
      "Reversed String: !dlroW ,olleH\n"
     ]
    }
   ],
   "source": [
    "string = \"Hello, World!\"\n",
    "reversed_string = string[::-1]\n",
    "print(f\"Original String: {string}\")\n",
    "print(f\"Reversed String: {reversed_string}\")"
   ]
  }
 ],
 "metadata": {
  "kernelspec": {
   "display_name": "Python 3",
   "language": "python",
   "name": "python3"
  },
  "language_info": {
   "codemirror_mode": {
    "name": "ipython",
    "version": 3
   },
   "file_extension": ".py",
   "mimetype": "text/x-python",
   "name": "python",
   "nbconvert_exporter": "python",
   "pygments_lexer": "ipython3",
   "version": "3.13.2"
  }
 },
 "nbformat": 4,
 "nbformat_minor": 5
}
