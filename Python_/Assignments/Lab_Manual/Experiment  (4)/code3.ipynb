{
 "cells": [
  {
   "cell_type": "markdown",
   "id": "78078cf8",
   "metadata": {},
   "source": [
    "Write a Python program to reverse a string using slicing. "
   ]
  },
  {
   "cell_type": "code",
   "execution_count": null,
   "id": "baf3607d",
   "metadata": {},
   "outputs": [],
   "source": [
    "# Program to reverse a string using slicing\n",
    "string = \"Hello, World!\"\n",
    "reversed_string = string[::-1]\n",
    "print(f\"Original String: {string}\")\n",
    "print(f\"Reversed String: {reversed_string}\")"
   ]
  }
 ],
 "metadata": {
  "language_info": {
   "name": "python"
  }
 },
 "nbformat": 4,
 "nbformat_minor": 5
}
