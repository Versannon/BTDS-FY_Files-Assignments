{
 "cells": [
  {
   "cell_type": "markdown",
   "id": "8ccd09bb",
   "metadata": {},
   "source": [
    "Write a Python program to count the number of vowels in a string."
   ]
  },
  {
   "cell_type": "code",
   "execution_count": 1,
   "id": "42522723",
   "metadata": {},
   "outputs": [
    {
     "name": "stdout",
     "output_type": "stream",
     "text": [
      "String: Hello, World!\n",
      "Number of vowels: 3\n"
     ]
    }
   ],
   "source": [
    "string = \"Hello, World!\"\n",
    "vowels = \"aeiouAEIOU\"\n",
    "count = sum(1 for char in string if char in vowels)\n",
    "print(f\"String: {string}\")\n",
    "print(f\"Number of vowels: {count}\")"
   ]
  }
 ],
 "metadata": {
  "kernelspec": {
   "display_name": "Python 3",
   "language": "python",
   "name": "python3"
  },
  "language_info": {
   "codemirror_mode": {
    "name": "ipython",
    "version": 3
   },
   "file_extension": ".py",
   "mimetype": "text/x-python",
   "name": "python",
   "nbconvert_exporter": "python",
   "pygments_lexer": "ipython3",
   "version": "3.13.2"
  }
 },
 "nbformat": 4,
 "nbformat_minor": 5
}
