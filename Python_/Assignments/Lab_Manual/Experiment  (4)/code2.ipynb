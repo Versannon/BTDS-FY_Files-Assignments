{
 "cells": [
  {
   "cell_type": "markdown",
   "id": "8ccd09bb",
   "metadata": {},
   "source": [
    "Write a Python program to count the number of vowels in a string."
   ]
  },
  {
   "cell_type": "code",
   "execution_count": null,
   "id": "42522723",
   "metadata": {},
   "outputs": [],
   "source": [
    "# Program to count the number of vowels in a string\n",
    "string = \"Hello, World!\"\n",
    "vowels = \"aeiouAEIOU\"\n",
    "count = sum(1 for char in string if char in vowels)\n",
    "print(f\"String: {string}\")\n",
    "print(f\"Number of vowels: {count}\")"
   ]
  }
 ],
 "metadata": {
  "language_info": {
   "name": "python"
  }
 },
 "nbformat": 4,
 "nbformat_minor": 5
}
