{
 "cells": [
  {
   "cell_type": "markdown",
   "id": "3667538c",
   "metadata": {},
   "source": [
    "Write a Python program to find the sum and average of elements in a list."
   ]
  },
  {
   "cell_type": "code",
   "execution_count": null,
   "id": "637bd4da",
   "metadata": {},
   "outputs": [],
   "source": [
    "# Program to find the sum and average of elements in a list\n",
    "numbers = [10, 20, 30, 40, 50]\n",
    "total = sum(numbers)\n",
    "average = total / len(numbers)\n",
    "print(f\"Sum: {total}\")\n",
    "print(f\"Average: {average}\")"
   ]
  }
 ],
 "metadata": {
  "language_info": {
   "name": "python"
  }
 },
 "nbformat": 4,
 "nbformat_minor": 5
}
