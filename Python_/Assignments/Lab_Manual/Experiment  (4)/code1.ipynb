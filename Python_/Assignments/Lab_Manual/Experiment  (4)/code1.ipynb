{
 "cells": [
  {
   "cell_type": "markdown",
   "id": "3667538c",
   "metadata": {},
   "source": [
    "Write a Python program to find the sum and average of elements in a list."
   ]
  },
  {
   "cell_type": "code",
   "execution_count": null,
   "id": "5ad10076",
   "metadata": {},
   "outputs": [],
   "source": [
    "# Program to find the sum and average of elements in a list\n",
    "numbers = list(map(int, input(\"Enter intergers: \").split()))\n",
    "total = sum(numbers)\n",
    "average = total / len(numbers) if numbers else 0\n",
    "print(f\"Sum: {total}\")\n",
    "print(f\"Average: {average}\")"
   ]
  }
 ],
 "metadata": {
  "kernelspec": {
   "display_name": "Python 3",
   "language": "python",
   "name": "python3"
  },
  "language_info": {
   "codemirror_mode": {
    "name": "ipython",
    "version": 3
   },
   "file_extension": ".py",
   "mimetype": "text/x-python",
   "name": "python",
   "nbconvert_exporter": "python",
   "pygments_lexer": "ipython3",
   "version": "3.13.2"
  }
 },
 "nbformat": 4,
 "nbformat_minor": 5
}
