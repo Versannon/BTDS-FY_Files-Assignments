{
 "cells": [
  {
   "cell_type": "markdown",
   "id": "7f18bce3",
   "metadata": {},
   "source": [
    "The code takes a string and an integer as input from the user and prints them."
   ]
  },
  {
   "cell_type": "code",
   "execution_count": 2,
   "id": "0adab5ac",
   "metadata": {},
   "outputs": [
    {
     "name": "stdout",
     "output_type": "stream",
     "text": [
      "FASt\n",
      "987764\n"
     ]
    }
   ],
   "source": [
    "x = input(\"Enter a string: \")\n",
    "y = int(input(\"Enter a Number: \"))\n",
    "\n",
    "print(x)\n",
    "print(y)"
   ]
  }
 ],
 "metadata": {
  "kernelspec": {
   "display_name": "Python 3",
   "language": "python",
   "name": "python3"
  },
  "language_info": {
   "codemirror_mode": {
    "name": "ipython",
    "version": 3
   },
   "file_extension": ".py",
   "mimetype": "text/x-python",
   "name": "python",
   "nbconvert_exporter": "python",
   "pygments_lexer": "ipython3",
   "version": "3.13.2"
  }
 },
 "nbformat": 4,
 "nbformat_minor": 5
}
