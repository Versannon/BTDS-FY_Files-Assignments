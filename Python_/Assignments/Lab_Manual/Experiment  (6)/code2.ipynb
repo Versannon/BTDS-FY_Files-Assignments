{
 "cells": [
  {
   "cell_type": "markdown",
   "id": "a50b2102",
   "metadata": {},
   "source": [
    "Write a Python program to write user input to a file."
   ]
  },
  {
   "cell_type": "code",
   "execution_count": null,
   "id": "758cce23",
   "metadata": {},
   "outputs": [
    {
     "name": "stdout",
     "output_type": "stream",
     "text": [
      "Text written to user_input.txt\n"
     ]
    }
   ],
   "source": [
    "file_name = 'user_input.txt'\n",
    "user_input = input('Enter some text to write to the file: ')\n",
    "with open(file_name, 'w') as file:\n",
    "    file.write(user_input)\n",
    "print(f'Text written to {file_name}')"
   ]
  }
 ],
 "metadata": {
  "kernelspec": {
   "display_name": "Python 3",
   "language": "python",
   "name": "python3"
  },
  "language_info": {
   "codemirror_mode": {
    "name": "ipython",
    "version": 3
   },
   "file_extension": ".py",
   "mimetype": "text/x-python",
   "name": "python",
   "nbconvert_exporter": "python",
   "pygments_lexer": "ipython3",
   "version": "3.13.2"
  }
 },
 "nbformat": 4,
 "nbformat_minor": 5
}
