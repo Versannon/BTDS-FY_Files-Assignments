{
 "cells": [
  {
   "cell_type": "markdown",
   "id": "b27b5740",
   "metadata": {},
   "source": [
    "Write a Python program to read and display the contents of a file."
   ]
  },
  {
   "cell_type": "code",
   "execution_count": 2,
   "id": "f98b6d7c",
   "metadata": {},
   "outputs": [
    {
     "name": "stdout",
     "output_type": "stream",
     "text": [
      "File contents:\n",
      " This is line 1 of the new file\n"
     ]
    }
   ],
   "source": [
    "file_name = 'user_input.txt'\n",
    "try:\n",
    "    with open(file_name, 'r') as file:\n",
    "        content = file.read()\n",
    "        print('File contents:\\n', content)\n",
    "except FileNotFoundError:\n",
    "    print(f'The file {file_name} does not exist.')"
   ]
  }
 ],
 "metadata": {
  "kernelspec": {
   "display_name": "Python 3",
   "language": "python",
   "name": "python3"
  },
  "language_info": {
   "codemirror_mode": {
    "name": "ipython",
    "version": 3
   },
   "file_extension": ".py",
   "mimetype": "text/x-python",
   "name": "python",
   "nbconvert_exporter": "python",
   "pygments_lexer": "ipython3",
   "version": "3.13.2"
  }
 },
 "nbformat": 4,
 "nbformat_minor": 5
}
