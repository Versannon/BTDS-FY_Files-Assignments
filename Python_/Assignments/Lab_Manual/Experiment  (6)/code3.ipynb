{
 "cells": [
  {
   "cell_type": "markdown",
   "id": "64792c9f",
   "metadata": {},
   "source": [
    "Write a Python program to count the number of words in a file."
   ]
  },
  {
   "cell_type": "code",
   "execution_count": null,
   "id": "0b2ed264",
   "metadata": {},
   "outputs": [
    {
     "name": "stdout",
     "output_type": "stream",
     "text": [
      "The file user_input.txt contains 8 words.\n"
     ]
    }
   ],
   "source": [
    "file_name = 'user_input.txt'\n",
    "try:\n",
    "    with open(file_name, 'r') as file:\n",
    "        content = file.read()\n",
    "        word_count = len(content.split())\n",
    "        print(f'The file {file_name} contains {word_count} words.')\n",
    "except FileNotFoundError:\n",
    "    print(f'The file {file_name} does not exist.')"
   ]
  }
 ],
 "metadata": {
  "kernelspec": {
   "display_name": "Python 3",
   "language": "python",
   "name": "python3"
  },
  "language_info": {
   "codemirror_mode": {
    "name": "ipython",
    "version": 3
   },
   "file_extension": ".py",
   "mimetype": "text/x-python",
   "name": "python",
   "nbconvert_exporter": "python",
   "pygments_lexer": "ipython3",
   "version": "3.13.2"
  }
 },
 "nbformat": 4,
 "nbformat_minor": 5
}
