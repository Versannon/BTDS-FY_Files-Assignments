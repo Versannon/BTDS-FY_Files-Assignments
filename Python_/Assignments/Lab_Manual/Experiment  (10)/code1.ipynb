{
 "cells": [
  {
   "cell_type": "markdown",
   "id": "0a3b51f2",
   "metadata": {},
   "source": [
    "Write a Python program to implement bubble sort and analyze its time complexity."
   ]
  },
  {
   "cell_type": "code",
   "execution_count": 1,
   "id": "2c36df23",
   "metadata": {},
   "outputs": [
    {
     "name": "stdout",
     "output_type": "stream",
     "text": [
      "Sorted array: [0, 1, 2, 2, 3, 3, 4, 4, 4, 5, 5, 6, 6, 7, 7, 7, 8, 9]\n"
     ]
    }
   ],
   "source": [
    "def bubble_sort(arr):\n",
    "    n = len(arr)\n",
    "    for i in range(n):\n",
    "        for j in range(0, n-i-1):\n",
    "            if arr[j] > arr[j+1]:\n",
    "                arr[j], arr[j+1] = arr[j+1], arr[j]\n",
    "    return arr\n",
    "\n",
    "arr = [int(x) for x in input(\"Enter numbers to sort: \").split()]\n",
    "sorted_arr = bubble_sort(arr)\n",
    "print(\"Sorted array:\", sorted_arr)"
   ]
  },
  {
   "cell_type": "markdown",
   "id": "d8d33b0e",
   "metadata": {},
   "source": [
    "Write a Python program to implement binary search on a sorted list."
   ]
  },
  {
   "cell_type": "code",
   "execution_count": 2,
   "id": "8f56b8e4",
   "metadata": {},
   "outputs": [
    {
     "name": "stdout",
     "output_type": "stream",
     "text": [
      "Element found at index 6\n"
     ]
    }
   ],
   "source": [
    "def binary_search(arr, x):\n",
    "    low, high = 0, len(arr) - 1\n",
    "    while low <= high:\n",
    "        mid = (low + high) // 2\n",
    "        if arr[mid] == x:\n",
    "            return mid\n",
    "        elif arr[mid] < x:\n",
    "            low = mid + 1\n",
    "        else:\n",
    "            high = mid - 1\n",
    "    return -1\n",
    "\n",
    "arr = sorted([int(x) for x in input(\"Enter sorted list of numbers: \").split()])\n",
    "x = int(input(\"Enter the number to search: \"))\n",
    "result = binary_search(arr, x)\n",
    "if result != -1:\n",
    "    print(f\"Element found at index {result}\")\n",
    "else:\n",
    "    print(\"Element not found\")"
   ]
  },
  {
   "cell_type": "markdown",
   "id": "4abc8654",
   "metadata": {},
   "source": [
    "Write a Python program to implement linear search and analyze its time complexity."
   ]
  },
  {
   "cell_type": "code",
   "execution_count": 5,
   "id": "8d6cce4b",
   "metadata": {},
   "outputs": [
    {
     "name": "stdout",
     "output_type": "stream",
     "text": [
      "Element found at index 7\n",
      "Given array: [1, 2, 3, 4, 56, 7, 8, 9, 14, 5, 6, 99, 200]\n"
     ]
    }
   ],
   "source": [
    "def linear_search(arr, x):\n",
    "    for i in range(len(arr)):\n",
    "        if arr[i] == x:\n",
    "            return i\n",
    "    return -1\n",
    "\n",
    "arr = [int(x) for x in input(\"Enter list of numbers: \").split()]\n",
    "x = int(input(\"Enter the number to search: \"))\n",
    "result = linear_search(arr, x)\n",
    "if result != -1:\n",
    "    print(f\"Element found at index {result}\")\n",
    "    print(f\"Given array: {arr}\")\n",
    "else:\n",
    "    print(\"Element not found\")"
   ]
  }
 ],
 "metadata": {
  "kernelspec": {
   "display_name": "Python 3",
   "language": "python",
   "name": "python3"
  },
  "language_info": {
   "codemirror_mode": {
    "name": "ipython",
    "version": 3
   },
   "file_extension": ".py",
   "mimetype": "text/x-python",
   "name": "python",
   "nbconvert_exporter": "python",
   "pygments_lexer": "ipython3",
   "version": "3.13.2"
  }
 },
 "nbformat": 4,
 "nbformat_minor": 5
}
