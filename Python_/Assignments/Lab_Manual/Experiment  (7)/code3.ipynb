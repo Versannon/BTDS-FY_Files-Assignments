{
 "cells": [
  {
   "cell_type": "markdown",
   "id": "7fb36a2d",
   "metadata": {},
   "source": [
    "Write a Python program to demonstrate method overriding. "
   ]
  },
  {
   "cell_type": "code",
   "execution_count": 1,
   "id": "55809550",
   "metadata": {},
   "outputs": [
    {
     "name": "stdout",
     "output_type": "stream",
     "text": [
      "This is the parent class\n",
      "This is the child class\n"
     ]
    }
   ],
   "source": [
    "class Parent:\n",
    "    def show(self):\n",
    "        print('This is the parent class')\n",
    "\n",
    "class Child(Parent):\n",
    "    def show(self):\n",
    "        print('This is the child class')\n",
    "\n",
    "parent = Parent()\n",
    "child = Child()\n",
    "parent.show()\n",
    "child.show()"
   ]
  }
 ],
 "metadata": {
  "kernelspec": {
   "display_name": "Python 3",
   "language": "python",
   "name": "python3"
  },
  "language_info": {
   "codemirror_mode": {
    "name": "ipython",
    "version": 3
   },
   "file_extension": ".py",
   "mimetype": "text/x-python",
   "name": "python",
   "nbconvert_exporter": "python",
   "pygments_lexer": "ipython3",
   "version": "3.13.2"
  }
 },
 "nbformat": 4,
 "nbformat_minor": 5
}
