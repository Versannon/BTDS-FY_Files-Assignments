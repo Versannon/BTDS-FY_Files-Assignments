{
 "cells": [
  {
   "cell_type": "markdown",
   "id": "1cbf9cce",
   "metadata": {},
   "source": [
    "Check if a number is prime using a Python function."
   ]
  },
  {
   "cell_type": "code",
   "execution_count": 2,
   "id": "1b55e53e",
   "metadata": {},
   "outputs": [
    {
     "name": "stdout",
     "output_type": "stream",
     "text": [
      "8 is not a prime number.\n"
     ]
    }
   ],
   "source": [
    "def is_prime(n):\n",
    "    if n > 1:\n",
    "        for i in range(2, n):\n",
    "            if n % i == 0:\n",
    "                return False\n",
    "        return True\n",
    "    return False\n",
    "\n",
    "num = int(input(\"Enter a number: \"))\n",
    "if is_prime(num):\n",
    "    print(f'{num} is a prime number.')\n",
    "else:\n",
    "    print(f'{num} is not a prime number.')"
   ]
  }
 ],
 "metadata": {
  "kernelspec": {
   "display_name": "Python 3",
   "language": "python",
   "name": "python3"
  },
  "language_info": {
   "codemirror_mode": {
    "name": "ipython",
    "version": 3
   },
   "file_extension": ".py",
   "mimetype": "text/x-python",
   "name": "python",
   "nbconvert_exporter": "python",
   "pygments_lexer": "ipython3",
   "version": "3.13.2"
  }
 },
 "nbformat": 4,
 "nbformat_minor": 5
}
