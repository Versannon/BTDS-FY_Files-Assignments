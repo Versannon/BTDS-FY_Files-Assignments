{
 "cells": [
  {
   "cell_type": "markdown",
   "id": "0b7be394",
   "metadata": {},
   "source": [
    "Write a Python program to find the largest number among three numbers using a function."
   ]
  },
  {
   "cell_type": "code",
   "execution_count": null,
   "id": "7052b7b3",
   "metadata": {},
   "outputs": [],
   "source": [
    "def f_l(a, b, c):\n",
    "    \"\"\"Function to find the largest of three numbers\"\"\"\n",
    "    return max(a, b, c)\n",
    "\n",
    "# Example usage\n",
    "num1 = float(input(\"Enter the first number: \"))\n",
    "num2 = float(input(\"Enter the second number: \"))\n",
    "num3 = float(input(\"Enter the third number: \"))\n",
    "\n",
    "largest = f_l(num1, num2, num3)\n",
    "print(f\"The largest number is: {largest}\")"
   ]
  }
 ],
 "metadata": {
  "language_info": {
   "name": "python"
  }
 },
 "nbformat": 4,
 "nbformat_minor": 5
}
