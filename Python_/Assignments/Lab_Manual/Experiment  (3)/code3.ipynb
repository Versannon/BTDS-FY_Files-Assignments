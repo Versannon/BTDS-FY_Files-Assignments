{
 "cells": [
  {
   "cell_type": "markdown",
   "id": "914bcdf9",
   "metadata": {},
   "source": [
    "Write a Python program to generate a random number between a given range using a module."
   ]
  },
  {
   "cell_type": "code",
   "execution_count": null,
   "id": "07ccfad5",
   "metadata": {},
   "outputs": [],
   "source": [
    "import random\n",
    "\n",
    "def ran_num(start, end):\n",
    "    \"\"\"Function to generate a random number between a given range\"\"\"\n",
    "    return random.randint(start, end)\n",
    "\n",
    "# Example usage\n",
    "start_range = int(input(\"Enter the start of the range: \"))\n",
    "end_range = int(input(\"Enter the end of the range: \"))\n",
    "\n",
    "random_number = ran_num(start_range, end_range)\n",
    "print(f\"Random number between {start_range} and {end_range}: {random_number}\")"
   ]
  }
 ],
 "metadata": {
  "language_info": {
   "name": "python"
  }
 },
 "nbformat": 4,
 "nbformat_minor": 5
}
