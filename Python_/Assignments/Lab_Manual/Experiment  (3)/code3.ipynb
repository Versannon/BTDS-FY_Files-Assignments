{
 "cells": [
  {
   "cell_type": "markdown",
   "id": "914bcdf9",
   "metadata": {},
   "source": [
    "Write a Python program to generate a random number between a given range using a module."
   ]
  },
  {
   "cell_type": "code",
   "execution_count": 1,
   "id": "07ccfad5",
   "metadata": {},
   "outputs": [
    {
     "name": "stdout",
     "output_type": "stream",
     "text": [
      "Random number between 1 and 10: 7\n"
     ]
    }
   ],
   "source": [
    "import random\n",
    "\n",
    "def ran_num(start, end):\n",
    "        return random.randint(start, end)\n",
    "\n",
    "st_range = int(input(\"Enter the start of the range: \"))\n",
    "end = int(input(\"Enter the end of the range: \"))\n",
    "\n",
    "random_number = ran_num(st_range, end)\n",
    "print(f\"Random number between {st_range} and {end}: {random_number}\")"
   ]
  }
 ],
 "metadata": {
  "kernelspec": {
   "display_name": "Python 3",
   "language": "python",
   "name": "python3"
  },
  "language_info": {
   "codemirror_mode": {
    "name": "ipython",
    "version": 3
   },
   "file_extension": ".py",
   "mimetype": "text/x-python",
   "name": "python",
   "nbconvert_exporter": "python",
   "pygments_lexer": "ipython3",
   "version": "3.13.2"
  }
 },
 "nbformat": 4,
 "nbformat_minor": 5
}
