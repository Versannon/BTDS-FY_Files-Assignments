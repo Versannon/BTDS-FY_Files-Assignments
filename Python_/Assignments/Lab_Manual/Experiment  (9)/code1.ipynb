{
 "cells": [
  {
   "cell_type": "markdown",
   "id": "44097d19",
   "metadata": {},
   "source": [
    "Write a Python program to find the factorial of a number using recursion."
   ]
  },
  {
   "cell_type": "code",
   "execution_count": 1,
   "id": "a038e972",
   "metadata": {},
   "outputs": [
    {
     "name": "stdout",
     "output_type": "stream",
     "text": [
      "Factorial of 9 is 362880\n"
     ]
    }
   ],
   "source": [
    "def factorial(n):\n",
    "    if n == 0 or n == 1:\n",
    "        return 1\n",
    "    return n * factorial(n - 1)\n",
    "\n",
    "num = int(input(\"Enter a number: \"))\n",
    "print(f\"Factorial of {num} is {factorial(num)}\")"
   ]
  },
  {
   "cell_type": "markdown",
   "id": "cb5617ef",
   "metadata": {},
   "source": [
    "Write a Python program to calculate the nth Fibonacci number using recursion."
   ]
  },
  {
   "cell_type": "code",
   "execution_count": 2,
   "id": "7dbcb74b",
   "metadata": {},
   "outputs": [
    {
     "name": "stdout",
     "output_type": "stream",
     "text": [
      "The 10th Fibonacci number is 55\n"
     ]
    }
   ],
   "source": [
    "def fibonacci(n):\n",
    "    if n <= 0:\n",
    "        return 0\n",
    "    elif n == 1:\n",
    "        return 1\n",
    "    return fibonacci(n - 1) + fibonacci(n - 2)\n",
    "\n",
    "n = int(input(\"Enter the position (n): \"))\n",
    "print(f\"The {n}th Fibonacci number is {fibonacci(n)}\")"
   ]
  },
  {
   "cell_type": "markdown",
   "id": "3c0c8d09",
   "metadata": {},
   "source": [
    "Write a Python program to implement binary search using recursion."
   ]
  },
  {
   "cell_type": "code",
   "execution_count": 7,
   "id": "0bad2a68",
   "metadata": {},
   "outputs": [
    {
     "name": "stdout",
     "output_type": "stream",
     "text": [
      "Element found at index 1\n",
      "More info: \n",
      "Given Array: [1, 2, 3]\n"
     ]
    }
   ],
   "source": [
    "def binary_search(arr, low, high, x):\n",
    "    if high >= low:\n",
    "        mid = (high + low) // 2\n",
    "        if arr[mid] == x:\n",
    "            return mid\n",
    "        elif arr[mid] > x:\n",
    "            return binary_search(arr, low, mid - 1, x)\n",
    "        else:\n",
    "            return binary_search(arr, mid + 1, high, x)\n",
    "    else:\n",
    "        return -1\n",
    "\n",
    "arr = sorted([int(x) for x in input(\"Enter sorted list of numbers: \").split()])\n",
    "x = int(input(\"Enter the number to search: \"))\n",
    "result = binary_search(arr, 0, len(arr) - 1, x)\n",
    "if result != -1:\n",
    "    print(f\"Element found at index {result}\")\n",
    "    print(f'More info: ')\n",
    "    print(f\"Given Array: {arr}\")\n",
    "else:\n",
    "    print(\"Element not found\")"
   ]
  }
 ],
 "metadata": {
  "kernelspec": {
   "display_name": "Python 3",
   "language": "python",
   "name": "python3"
  },
  "language_info": {
   "codemirror_mode": {
    "name": "ipython",
    "version": 3
   },
   "file_extension": ".py",
   "mimetype": "text/x-python",
   "name": "python",
   "nbconvert_exporter": "python",
   "pygments_lexer": "ipython3",
   "version": "3.13.2"
  }
 },
 "nbformat": 4,
 "nbformat_minor": 5
}
