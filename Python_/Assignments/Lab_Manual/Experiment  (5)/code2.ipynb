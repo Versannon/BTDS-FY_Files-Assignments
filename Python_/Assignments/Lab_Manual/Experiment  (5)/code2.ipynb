{
 "cells": [
  {
   "cell_type": "markdown",
   "id": "909d2f5b",
   "metadata": {},
   "source": [
    "Write a Python program to find the intersection and union of two sets."
   ]
  },
  {
   "cell_type": "code",
   "execution_count": 1,
   "id": "57d0d430",
   "metadata": {},
   "outputs": [
    {
     "name": "stdout",
     "output_type": "stream",
     "text": [
      "Intersection: {3, 4}\n",
      "Union: {1, 2, 3, 4, 5, 6}\n"
     ]
    }
   ],
   "source": [
    "set1 = {1, 2, 3, 4}\n",
    "set2 = {3, 4, 5, 6}\n",
    "\n",
    "intersection = set1 & set2\n",
    "print('Intersection:', intersection)\n",
    "\n",
    "union = set1 | set2\n",
    "print('Union:', union)"
   ]
  }
 ],
 "metadata": {
  "kernelspec": {
   "display_name": "Python 3",
   "language": "python",
   "name": "python3"
  },
  "language_info": {
   "codemirror_mode": {
    "name": "ipython",
    "version": 3
   },
   "file_extension": ".py",
   "mimetype": "text/x-python",
   "name": "python",
   "nbconvert_exporter": "python",
   "pygments_lexer": "ipython3",
   "version": "3.13.2"
  }
 },
 "nbformat": 4,
 "nbformat_minor": 5
}
