{
 "cells": [
  {
   "cell_type": "markdown",
   "id": "7825af64",
   "metadata": {},
   "source": [
    "Q: Write a Python program to demonstrate dictionary operations (add, delete, update). "
   ]
  },
  {
   "cell_type": "code",
   "execution_count": null,
   "id": "19361ad1",
   "metadata": {},
   "outputs": [
    {
     "name": "stdout",
     "output_type": "stream",
     "text": [
      "After adding: {'key1': 'value1', 'key2': 'value2'}\n",
      "After updating: {'key1': 'updated_value', 'key2': 'value2'}\n",
      "After deleting: {'key1': 'updated_value'}\n"
     ]
    }
   ],
   "source": [
    "my_dict = {}\n",
    "\n",
    "my_dict['key1'] = 'value1'\n",
    "my_dict['key2'] = 'value2'\n",
    "print('After adding:', my_dict)\n",
    "\n",
    "my_dict['key1'] = 'updated_value'\n",
    "print('After updating:', my_dict)\n",
    "\n",
    "del my_dict['key2']\n",
    "print('After deleting:', my_dict)"
   ]
  }
 ],
 "metadata": {
  "kernelspec": {
   "display_name": "Python 3",
   "language": "python",
   "name": "python3"
  },
  "language_info": {
   "codemirror_mode": {
    "name": "ipython",
    "version": 3
   },
   "file_extension": ".py",
   "mimetype": "text/x-python",
   "name": "python",
   "nbconvert_exporter": "python",
   "pygments_lexer": "ipython3",
   "version": "3.13.2"
  }
 },
 "nbformat": 4,
 "nbformat_minor": 5
}
